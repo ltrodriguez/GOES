{
 "cells": [
  {
   "cell_type": "code",
   "execution_count": 4,
   "metadata": {},
   "outputs": [],
   "source": [
    "import hashlib\n",
    "import random\n",
    "\n",
    "class Blockchain:\n",
    "    def __init__(self, difficulty, blocks = []):\n",
    "        self.blocks = blocks\n",
    "        self.difficulty = difficulty\n",
    "\n",
    "        first_transaction = Transaction(\"a988a7d0a8dd8\")\n",
    "        genesis_block = mine_block(first_transaction, self)\n",
    "        self.add_block(genesis_block)\n",
    "\n",
    "    def add_block(self, block):\n",
    "        if block.get_hash().startswith(\"0\" * self.difficulty):\n",
    "            self.blocks.append(block)\n",
    "\n",
    "class Block:\n",
    "    def __init__(self, transaction, nonce, prev_block_hash):\n",
    "        self.transaction = transaction\n",
    "        self.nonce = nonce\n",
    "        self.prev_block_hash = prev_block_hash\n",
    "\n",
    "    def get_hash(self):\n",
    "        dictionary = self.__dict__.copy()\n",
    "        dictionary['transaction'] = self.transaction.__dict__\n",
    "        block_str = str(dictionary)\n",
    "\n",
    "        hash_manager = hashlib.sha256()\n",
    "        hash_manager.update(bytes(block_str, encoding='utf-8'))\n",
    "        return hash_manager.hexdigest()\n",
    "\n",
    "class Transaction:\n",
    "    def __init__(self, hash_code):\n",
    "        self.hash_code = hash_code\n",
    "\n",
    "def mine_block(transaction, blockchain):\n",
    "    nonce = 0\n",
    "    while True:\n",
    "    \tif len(blockchain.blocks) != 0:\n",
    "        \thash_prev_block = blockchain.blocks[len(blockchain.blocks) - 1].get_hash()\n",
    "        \tnew_block = Block(transaction, nonce, hash_prev_block)\n",
    "    \telse:\n",
    "        \tnew_block = Block(transaction, nonce, \"\")\n",
    "    \t\n",
    "    \tif new_block.get_hash().startswith(\"0\" * blockchain.difficulty):\n",
    "            print(\"Nonce found:\", nonce)\n",
    "            return new_block\n",
    "\n",
    "    \tnonce += 1\n"
   ]
  },
  {
   "cell_type": "code",
   "execution_count": 3,
   "metadata": {},
   "outputs": [
    {
     "name": "stdout",
     "output_type": "stream",
     "text": [
      "Nonce found: 1033718\n",
      "Nonce found: 803154\n",
      "{'transaction': <__main__.Transaction object at 0x7f9088433d30>, 'nonce': 803154, 'prev_block_hash': '00000c5241cf62bac1117d67085451e8f66de19620ff85fc7312dc2dc66429b5'}\n",
      "2\n"
     ]
    }
   ],
   "source": [
    "\n",
    "if __name__ == \"__main__\":\n",
    "    transaccion = Transaction(\"skfsjdglkjfn\")\n",
    "    blockchain = Blockchain(5)\n",
    "\n",
    "    block = mine_block(transaccion, blockchain)\n",
    "\n",
    "    blockchain.add_block(block)\n",
    "\n",
    "    print(block.__dict__)\n",
    "\n",
    "    print(len(blockchain.blocks))"
   ]
  },
  {
   "cell_type": "code",
   "execution_count": 29,
   "metadata": {},
   "outputs": [
    {
     "ename": "TypeError",
     "evalue": "object of type 'Blockchain' has no len()",
     "output_type": "error",
     "traceback": [
      "\u001b[0;31m---------------------------------------------------------------------------\u001b[0m",
      "\u001b[0;31mTypeError\u001b[0m                                 Traceback (most recent call last)",
      "\u001b[0;32m<ipython-input-29-51a237e835e9>\u001b[0m in \u001b[0;36m<module>\u001b[0;34m\u001b[0m\n\u001b[1;32m      1\u001b[0m \u001b[0mtrns\u001b[0m \u001b[0;34m=\u001b[0m \u001b[0mTransaction\u001b[0m\u001b[0;34m(\u001b[0m\u001b[0;34m\"Laura envía 10 a Juliana\"\u001b[0m\u001b[0;34m)\u001b[0m\u001b[0;34m\u001b[0m\u001b[0;34m\u001b[0m\u001b[0m\n\u001b[0;32m----> 2\u001b[0;31m \u001b[0mbloc1\u001b[0m \u001b[0;34m=\u001b[0m \u001b[0mBlockchain\u001b[0m\u001b[0;34m(\u001b[0m\u001b[0;36m3\u001b[0m\u001b[0;34m,\u001b[0m\u001b[0mbloc\u001b[0m\u001b[0;34m)\u001b[0m\u001b[0;34m\u001b[0m\u001b[0;34m\u001b[0m\u001b[0m\n\u001b[0m\u001b[1;32m      3\u001b[0m \u001b[0;34m\u001b[0m\u001b[0m\n",
      "\u001b[0;32m<ipython-input-4-338c5f4a3e85>\u001b[0m in \u001b[0;36m__init__\u001b[0;34m(self, difficulty, blocks)\u001b[0m\n\u001b[1;32m      8\u001b[0m \u001b[0;34m\u001b[0m\u001b[0m\n\u001b[1;32m      9\u001b[0m         \u001b[0mfirst_transaction\u001b[0m \u001b[0;34m=\u001b[0m \u001b[0mTransaction\u001b[0m\u001b[0;34m(\u001b[0m\u001b[0;34m\"a988a7d0a8dd8\"\u001b[0m\u001b[0;34m)\u001b[0m\u001b[0;34m\u001b[0m\u001b[0;34m\u001b[0m\u001b[0m\n\u001b[0;32m---> 10\u001b[0;31m         \u001b[0mgenesis_block\u001b[0m \u001b[0;34m=\u001b[0m \u001b[0mmine_block\u001b[0m\u001b[0;34m(\u001b[0m\u001b[0mfirst_transaction\u001b[0m\u001b[0;34m,\u001b[0m \u001b[0mself\u001b[0m\u001b[0;34m)\u001b[0m\u001b[0;34m\u001b[0m\u001b[0;34m\u001b[0m\u001b[0m\n\u001b[0m\u001b[1;32m     11\u001b[0m         \u001b[0mself\u001b[0m\u001b[0;34m.\u001b[0m\u001b[0madd_block\u001b[0m\u001b[0;34m(\u001b[0m\u001b[0mgenesis_block\u001b[0m\u001b[0;34m)\u001b[0m\u001b[0;34m\u001b[0m\u001b[0;34m\u001b[0m\u001b[0m\n\u001b[1;32m     12\u001b[0m \u001b[0;34m\u001b[0m\u001b[0m\n",
      "\u001b[0;32m<ipython-input-4-338c5f4a3e85>\u001b[0m in \u001b[0;36mmine_block\u001b[0;34m(transaction, blockchain)\u001b[0m\n\u001b[1;32m     37\u001b[0m     \u001b[0mnonce\u001b[0m \u001b[0;34m=\u001b[0m \u001b[0;36m0\u001b[0m\u001b[0;34m\u001b[0m\u001b[0;34m\u001b[0m\u001b[0m\n\u001b[1;32m     38\u001b[0m     \u001b[0;32mwhile\u001b[0m \u001b[0;32mTrue\u001b[0m\u001b[0;34m:\u001b[0m\u001b[0;34m\u001b[0m\u001b[0;34m\u001b[0m\u001b[0m\n\u001b[0;32m---> 39\u001b[0;31m         \u001b[0;32mif\u001b[0m \u001b[0mlen\u001b[0m\u001b[0;34m(\u001b[0m\u001b[0mblockchain\u001b[0m\u001b[0;34m.\u001b[0m\u001b[0mblocks\u001b[0m\u001b[0;34m)\u001b[0m \u001b[0;34m!=\u001b[0m \u001b[0;36m0\u001b[0m\u001b[0;34m:\u001b[0m\u001b[0;34m\u001b[0m\u001b[0;34m\u001b[0m\u001b[0m\n\u001b[0m\u001b[1;32m     40\u001b[0m                 \u001b[0mhash_prev_block\u001b[0m \u001b[0;34m=\u001b[0m \u001b[0mblockchain\u001b[0m\u001b[0;34m.\u001b[0m\u001b[0mblocks\u001b[0m\u001b[0;34m[\u001b[0m\u001b[0mlen\u001b[0m\u001b[0;34m(\u001b[0m\u001b[0mblockchain\u001b[0m\u001b[0;34m.\u001b[0m\u001b[0mblocks\u001b[0m\u001b[0;34m)\u001b[0m \u001b[0;34m-\u001b[0m \u001b[0;36m1\u001b[0m\u001b[0;34m]\u001b[0m\u001b[0;34m.\u001b[0m\u001b[0mget_hash\u001b[0m\u001b[0;34m(\u001b[0m\u001b[0;34m)\u001b[0m\u001b[0;34m\u001b[0m\u001b[0;34m\u001b[0m\u001b[0m\n\u001b[1;32m     41\u001b[0m                 \u001b[0mnew_block\u001b[0m \u001b[0;34m=\u001b[0m \u001b[0mBlock\u001b[0m\u001b[0;34m(\u001b[0m\u001b[0mtransaction\u001b[0m\u001b[0;34m,\u001b[0m \u001b[0mnonce\u001b[0m\u001b[0;34m,\u001b[0m \u001b[0mhash_prev_block\u001b[0m\u001b[0;34m)\u001b[0m\u001b[0;34m\u001b[0m\u001b[0;34m\u001b[0m\u001b[0m\n",
      "\u001b[0;31mTypeError\u001b[0m: object of type 'Blockchain' has no len()"
     ]
    }
   ],
   "source": [
    "trns = Transaction(\"Laura envía 10 a Juliana\")\n",
    "bloc1 = Blockchain(3,bloc)\n",
    "\n"
   ]
  },
  {
   "cell_type": "code",
   "execution_count": 30,
   "metadata": {},
   "outputs": [
    {
     "ename": "NameError",
     "evalue": "name 'bloc1' is not defined",
     "output_type": "error",
     "traceback": [
      "\u001b[0;31m---------------------------------------------------------------------------\u001b[0m",
      "\u001b[0;31mNameError\u001b[0m                                 Traceback (most recent call last)",
      "\u001b[0;32m<ipython-input-30-3c4e4b8fe102>\u001b[0m in \u001b[0;36m<module>\u001b[0;34m\u001b[0m\n\u001b[0;32m----> 1\u001b[0;31m \u001b[0mblock\u001b[0m \u001b[0;34m=\u001b[0m \u001b[0mmine_block\u001b[0m\u001b[0;34m(\u001b[0m\u001b[0mtrns\u001b[0m\u001b[0;34m,\u001b[0m \u001b[0mbloc1\u001b[0m\u001b[0;34m)\u001b[0m\u001b[0;34m\u001b[0m\u001b[0;34m\u001b[0m\u001b[0m\n\u001b[0m\u001b[1;32m      2\u001b[0m \u001b[0mblockchain\u001b[0m\u001b[0;34m.\u001b[0m\u001b[0madd_block\u001b[0m\u001b[0;34m(\u001b[0m\u001b[0mblock\u001b[0m\u001b[0;34m)\u001b[0m\u001b[0;34m\u001b[0m\u001b[0;34m\u001b[0m\u001b[0m\n",
      "\u001b[0;31mNameError\u001b[0m: name 'bloc1' is not defined"
     ]
    }
   ],
   "source": [
    "block = mine_block(trns, bloc1)\n",
    "blockchain.add_block(block)"
   ]
  },
  {
   "cell_type": "code",
   "execution_count": 31,
   "metadata": {},
   "outputs": [
    {
     "data": {
      "text/plain": [
       "[<__main__.Block at 0x7f9088433eb8>, <__main__.Block at 0x7f9088433cf8>]"
      ]
     },
     "execution_count": 31,
     "metadata": {},
     "output_type": "execute_result"
    }
   ],
   "source": [
    "blockchain.blocks"
   ]
  },
  {
   "cell_type": "code",
   "execution_count": null,
   "metadata": {},
   "outputs": [],
   "source": []
  }
 ],
 "metadata": {
  "kernelspec": {
   "display_name": "Python 3",
   "language": "python",
   "name": "python3"
  },
  "language_info": {
   "codemirror_mode": {
    "name": "ipython",
    "version": 3
   },
   "file_extension": ".py",
   "mimetype": "text/x-python",
   "name": "python",
   "nbconvert_exporter": "python",
   "pygments_lexer": "ipython3",
   "version": "3.6.9"
  }
 },
 "nbformat": 4,
 "nbformat_minor": 2
}
